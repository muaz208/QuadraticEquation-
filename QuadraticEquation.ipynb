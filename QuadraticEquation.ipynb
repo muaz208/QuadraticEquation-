{
 "cells": [
  {
   "cell_type": "code",
   "execution_count": 7,
   "metadata": {},
   "outputs": [],
   "source": [
    "import math\n",
    "def quadratic():\n",
    "    \n",
    "    try:\n",
    "        \n",
    "        a=int(input(\"Please enter the a value: \"))\n",
    "        b=int(input(\"Please enter the a value: \"))\n",
    "        c=int(input(\"Please enter the a value: \"))\n",
    "    except:\n",
    "        print(\"Not a valid entry, please try again\")\n",
    "        quadratic()\n",
    "        return None\n",
    "    \n",
    "    discrim=(b*b)-(4*a*c)\n",
    "    \n",
    "    if(discrim>0):\n",
    "        x1=((-1*b)+math.sqrt(discrim))//(2*a)\n",
    "        x2=((-1*b)-math.sqrt(discrim))//(2*a)\n",
    "        print(\"\\nThe two roots are x1=\", x1, \"and x2=\",x2)\n",
    "        return x1,x2\n",
    "    \n",
    "    elif(discrim==0):\n",
    "        x=(-1*b)//(2*a);\n",
    "        print(\"The only root is x=\",x)\n",
    "        return x\n",
    "    \n",
    "    elif(discrim<0):\n",
    "        print(\"There are no real roots!\")\n",
    "        return None\n",
    "        \n",
    "    \n",
    "   \n",
    "        "
   ]
  },
  {
   "cell_type": "code",
   "execution_count": 8,
   "metadata": {},
   "outputs": [
    {
     "name": "stdout",
     "output_type": "stream",
     "text": [
      "Please enter the a value: 1\n",
      "Please enter the a value: j\n",
      "Not a valid entry, please try again\n",
      "Please enter the a value: 1\n",
      "Please enter the a value: 4\n",
      "Please enter the a value: 4\n",
      "The only root is x= -2\n"
     ]
    }
   ],
   "source": [
    "quadratic()"
   ]
  },
  {
   "cell_type": "code",
   "execution_count": null,
   "metadata": {},
   "outputs": [],
   "source": []
  },
  {
   "cell_type": "code",
   "execution_count": null,
   "metadata": {},
   "outputs": [],
   "source": []
  }
 ],
 "metadata": {
  "kernelspec": {
   "display_name": "Python 3",
   "language": "python",
   "name": "python3"
  }
 },
 "nbformat": 4,
 "nbformat_minor": 2
}
